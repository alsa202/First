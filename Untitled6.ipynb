{
 "cells": [
  {
   "cell_type": "code",
   "execution_count": 1,
   "id": "ba5021ea",
   "metadata": {},
   "outputs": [],
   "source": [
    "import pandas as pd\n",
    "import numpy as np\n",
    "import matplotlib.pyplot as plt\n",
    "import seaborn as sns"
   ]
  },
  {
   "cell_type": "code",
   "execution_count": 3,
   "id": "cff16809",
   "metadata": {},
   "outputs": [
    {
     "name": "stdout",
     "output_type": "stream",
     "text": [
      "   Unnamed: 0.1  Unnamed: 0    ID  Year_Birth Education Marital_Status  \\\n",
      "0             0           0  5524        1957        S1         Lajang   \n",
      "1             1           1  2174        1954        S1         Lajang   \n",
      "2             2           2  4141        1965        S1    Bertunangan   \n",
      "3             3           3  6182        1984        S1    Bertunangan   \n",
      "4             4           4  5324        1981        S3        Menikah   \n",
      "\n",
      "       Income  Kidhome  Teenhome Dt_Customer  ...  NumWebVisitsMonth  \\\n",
      "0  58138000.0        0         0  04-09-2012  ...                  7   \n",
      "1  46344000.0        1         1  08-03-2014  ...                  5   \n",
      "2  71613000.0        0         0  21-08-2013  ...                  4   \n",
      "3  26646000.0        1         0  10-02-2014  ...                  6   \n",
      "4  58293000.0        1         0  19-01-2014  ...                  5   \n",
      "\n",
      "   AcceptedCmp3  AcceptedCmp4  AcceptedCmp5  AcceptedCmp1  AcceptedCmp2  \\\n",
      "0             0             0             0             0             0   \n",
      "1             0             0             0             0             0   \n",
      "2             0             0             0             0             0   \n",
      "3             0             0             0             0             0   \n",
      "4             0             0             0             0             0   \n",
      "\n",
      "   Complain  Z_CostContact  Z_Revenue  Response  \n",
      "0         0              3         11         1  \n",
      "1         0              3         11         0  \n",
      "2         0              3         11         0  \n",
      "3         0              3         11         0  \n",
      "4         0              3         11         0  \n",
      "\n",
      "[5 rows x 31 columns]\n"
     ]
    }
   ],
   "source": [
    "data = pd.read_csv(\"E:\\My programming\\customer_train.csv\")\n",
    "print(data.head())"
   ]
  },
  {
   "cell_type": "code",
   "execution_count": 4,
   "id": "cad724c0",
   "metadata": {},
   "outputs": [
    {
     "name": "stdout",
     "output_type": "stream",
     "text": [
      "Unnamed: 0.1            0\n",
      "Unnamed: 0              0\n",
      "ID                      0\n",
      "Year_Birth              0\n",
      "Education               0\n",
      "Marital_Status          0\n",
      "Income                 17\n",
      "Kidhome                 0\n",
      "Teenhome                0\n",
      "Dt_Customer             0\n",
      "Recency                 0\n",
      "MntCoke                 0\n",
      "MntFruits               0\n",
      "MntMeatProducts         0\n",
      "MntFishProducts         0\n",
      "MntSweetProducts        0\n",
      "MntGoldProds            0\n",
      "NumDealsPurchases       0\n",
      "NumWebPurchases         0\n",
      "NumCatalogPurchases     0\n",
      "NumStorePurchases       0\n",
      "NumWebVisitsMonth       0\n",
      "AcceptedCmp3            0\n",
      "AcceptedCmp4            0\n",
      "AcceptedCmp5            0\n",
      "AcceptedCmp1            0\n",
      "AcceptedCmp2            0\n",
      "Complain                0\n",
      "Z_CostContact           0\n",
      "Z_Revenue               0\n",
      "Response                0\n",
      "dtype: int64\n"
     ]
    }
   ],
   "source": [
    "print(data.isnull().sum())"
   ]
  },
  {
   "cell_type": "code",
   "execution_count": 5,
   "id": "2f59135c",
   "metadata": {},
   "outputs": [
    {
     "name": "stdout",
     "output_type": "stream",
     "text": [
      "       Unnamed: 0.1   Unnamed: 0            ID   Year_Birth        Income  \\\n",
      "count   1680.000000  1680.000000   1680.000000  1680.000000  1.663000e+03   \n",
      "mean     839.500000   839.500000   5551.728571  1968.847619  5.201434e+07   \n",
      "std      485.118542   485.118542   3238.155703    12.027192  2.148248e+07   \n",
      "min        0.000000     0.000000      0.000000  1893.000000  1.730000e+06   \n",
      "25%      419.750000   419.750000   2823.250000  1960.000000  3.568800e+07   \n",
      "50%      839.500000   839.500000   5381.000000  1970.000000  5.125000e+07   \n",
      "75%     1259.250000  1259.250000   8370.750000  1977.000000  6.812200e+07   \n",
      "max     1679.000000  1679.000000  11191.000000  1996.000000  1.623970e+08   \n",
      "\n",
      "           Kidhome     Teenhome      Recency       MntCoke      MntFruits  \\\n",
      "count  1680.000000  1680.000000  1680.000000  1.680000e+03    1680.000000   \n",
      "mean      0.452381     0.500000    49.083333  3.048994e+05   25918.452381   \n",
      "std       0.546901     0.550055    28.930637  3.387051e+05   39532.059109   \n",
      "min       0.000000     0.000000     0.000000  0.000000e+00       0.000000   \n",
      "25%       0.000000     0.000000    24.000000  2.400000e+04    1000.000000   \n",
      "50%       0.000000     0.000000    50.000000  1.730000e+05    8000.000000   \n",
      "75%       1.000000     1.000000    74.000000  4.942500e+05   32000.000000   \n",
      "max       2.000000     2.000000    99.000000  1.492000e+06  199000.000000   \n",
      "\n",
      "       ...  NumWebVisitsMonth  AcceptedCmp3  AcceptedCmp4  AcceptedCmp5  \\\n",
      "count  ...        1680.000000   1680.000000   1680.000000   1680.000000   \n",
      "mean   ...           5.332143      0.071429      0.074405      0.069048   \n",
      "std    ...           2.449814      0.257616      0.262507      0.253611   \n",
      "min    ...           0.000000      0.000000      0.000000      0.000000   \n",
      "25%    ...           3.000000      0.000000      0.000000      0.000000   \n",
      "50%    ...           6.000000      0.000000      0.000000      0.000000   \n",
      "75%    ...           7.000000      0.000000      0.000000      0.000000   \n",
      "max    ...          20.000000      1.000000      1.000000      1.000000   \n",
      "\n",
      "       AcceptedCmp1  AcceptedCmp2     Complain  Z_CostContact  Z_Revenue  \\\n",
      "count   1680.000000   1680.000000  1680.000000         1680.0     1680.0   \n",
      "mean       0.062500      0.011905     0.010119            3.0       11.0   \n",
      "std        0.242134      0.108490     0.100113            0.0        0.0   \n",
      "min        0.000000      0.000000     0.000000            3.0       11.0   \n",
      "25%        0.000000      0.000000     0.000000            3.0       11.0   \n",
      "50%        0.000000      0.000000     0.000000            3.0       11.0   \n",
      "75%        0.000000      0.000000     0.000000            3.0       11.0   \n",
      "max        1.000000      1.000000     1.000000            3.0       11.0   \n",
      "\n",
      "          Response  \n",
      "count  1680.000000  \n",
      "mean      0.144048  \n",
      "std       0.351243  \n",
      "min       0.000000  \n",
      "25%       0.000000  \n",
      "50%       0.000000  \n",
      "75%       0.000000  \n",
      "max       1.000000  \n",
      "\n",
      "[8 rows x 28 columns]\n"
     ]
    }
   ],
   "source": [
    "print(data.describe())"
   ]
  },
  {
   "cell_type": "code",
   "execution_count": 6,
   "id": "3604bcec",
   "metadata": {},
   "outputs": [
    {
     "name": "stdout",
     "output_type": "stream",
     "text": [
      "Unnamed: 0.1             int64\n",
      "Unnamed: 0               int64\n",
      "ID                       int64\n",
      "Year_Birth               int64\n",
      "Education               object\n",
      "Marital_Status          object\n",
      "Income                 float64\n",
      "Kidhome                  int64\n",
      "Teenhome                 int64\n",
      "Dt_Customer             object\n",
      "Recency                  int64\n",
      "MntCoke                  int64\n",
      "MntFruits                int64\n",
      "MntMeatProducts          int64\n",
      "MntFishProducts          int64\n",
      "MntSweetProducts         int64\n",
      "MntGoldProds             int64\n",
      "NumDealsPurchases        int64\n",
      "NumWebPurchases          int64\n",
      "NumCatalogPurchases      int64\n",
      "NumStorePurchases        int64\n",
      "NumWebVisitsMonth        int64\n",
      "AcceptedCmp3             int64\n",
      "AcceptedCmp4             int64\n",
      "AcceptedCmp5             int64\n",
      "AcceptedCmp1             int64\n",
      "AcceptedCmp2             int64\n",
      "Complain                 int64\n",
      "Z_CostContact            int64\n",
      "Z_Revenue                int64\n",
      "Response                 int64\n",
      "dtype: object\n"
     ]
    }
   ],
   "source": [
    "print(data.dtypes)"
   ]
  },
  {
   "cell_type": "code",
   "execution_count": 7,
   "id": "ce327879",
   "metadata": {},
   "outputs": [
    {
     "data": {
      "image/png": "[encoded data removed]",
      "text/plain": [
       "<Figure size 1000x600 with 1 Axes>"
      ]
     },
     "metadata": {},
     "output_type": "display_data"
    }
   ],
   "source": [
    "plt.figure(figsize=(10, 6))\n",
    "sns.histplot(data['Year_Birth'], bins=20, kde=True)\n",
    "plt.title('Distribution of Age')\n",
    "plt.xlabel('Year of Birth')\n",
    "plt.ylabel('Frequency')\n",
    "plt.show()"
   ]
  },
  {
   "cell_type": "code",
   "execution_count": 8,
   "id": "aa6bb53c",
   "metadata": {},
   "outputs": [
    {
     "data": {
      "image/png": "[encoded data removed]",
      "text/plain": [
       "<Figure size 800x600 with 1 Axes>"
      ]
     },
     "metadata": {},
     "output_type": "display_data"
    }
   ],
   "source": [
    "plt.figure(figsize=(8, 6))\n",
    "sns.boxplot(data['Income'])\n",
    "plt.title('Boxplot of Income')\n",
    "plt.xlabel('Income')\n",
    "plt.show()"
   ]
  },
  {
   "cell_type": "code",
   "execution_count": 10,
   "id": "f7715314",
   "metadata": {},
   "outputs": [
    {
     "name": "stdout",
     "output_type": "stream",
     "text": [
      "      Unnamed: 0.1  Unnamed: 0    ID  Year_Birth Education Marital_Status  \\\n",
      "0                0           0  5524        1957        S1         Lajang   \n",
      "1                1           1  2174        1954        S1         Lajang   \n",
      "2                2           2  4141        1965        S1    Bertunangan   \n",
      "3                3           3  6182        1984        S1    Bertunangan   \n",
      "4                4           4  5324        1981        S3        Menikah   \n",
      "...            ...         ...   ...         ...       ...            ...   \n",
      "1675          1675        1675  4712        1991        D3    Bertunangan   \n",
      "1676          1676        1676  1170        1975        S1        Menikah   \n",
      "1677          1677        1677  6347        1979       SMA         Lajang   \n",
      "1678          1678        1678  4065        1976        S3        Menikah   \n",
      "1679          1679        1679  8230        1980        S1        Menikah   \n",
      "\n",
      "          Income  Kidhome  Teenhome Dt_Customer  ...  NumWebVisitsMonth  \\\n",
      "0     58138000.0        0         0  04-09-2012  ...                  7   \n",
      "1     46344000.0        1         1  08-03-2014  ...                  5   \n",
      "2     71613000.0        0         0  21-08-2013  ...                  4   \n",
      "3     26646000.0        1         0  10-02-2014  ...                  6   \n",
      "4     58293000.0        1         0  19-01-2014  ...                  5   \n",
      "...          ...      ...       ...         ...  ...                ...   \n",
      "1675  20193000.0        0         0  28-11-2012  ...                  4   \n",
      "1676  27573000.0        1         0  25-03-2013  ...                  8   \n",
      "1677  15862000.0        1         0  27-06-2013  ...                  8   \n",
      "1678  49544000.0        1         0  12-02-2013  ...                  7   \n",
      "1679  33228000.0        1         0  23-01-2014  ...                  7   \n",
      "\n",
      "      AcceptedCmp3  AcceptedCmp4  AcceptedCmp5  AcceptedCmp1  AcceptedCmp2  \\\n",
      "0                0             0             0             0             0   \n",
      "1                0             0             0             0             0   \n",
      "2                0             0             0             0             0   \n",
      "3                0             0             0             0             0   \n",
      "4                0             0             0             0             0   \n",
      "...            ...           ...           ...           ...           ...   \n",
      "1675             0             0             0             0             0   \n",
      "1676             0             0             0             0             0   \n",
      "1677             0             0             0             0             0   \n",
      "1678             0             0             0             0             0   \n",
      "1679             0             0             0             0             0   \n",
      "\n",
      "      Complain  Z_CostContact  Z_Revenue  Response  \n",
      "0            0              3         11         1  \n",
      "1            0              3         11         0  \n",
      "2            0              3         11         0  \n",
      "3            0              3         11         0  \n",
      "4            0              3         11         0  \n",
      "...        ...            ...        ...       ...  \n",
      "1675         0              3         11         0  \n",
      "1676         0              3         11         0  \n",
      "1677         0              3         11         0  \n",
      "1678         0              3         11         0  \n",
      "1679         0              3         11         0  \n",
      "\n",
      "[1680 rows x 31 columns]\n"
     ]
    }
   ],
   "source": [
    "data.fillna(method='ffill', inplace=True)\n",
    "print(data)"
   ]
  },
  {
   "cell_type": "code",
   "execution_count": 14,
   "id": "5b1eade6",
   "metadata": {},
   "outputs": [
    {
     "name": "stdout",
     "output_type": "stream",
     "text": [
      "   Unnamed: 0.1  Unnamed: 0    ID  Year_Birth      Income  Kidhome  Teenhome  \\\n",
      "0             0           0  5524        1957  58138000.0        0         0   \n",
      "1             1           1  2174        1954  46344000.0        1         1   \n",
      "2             2           2  4141        1965  71613000.0        0         0   \n",
      "3             3           3  6182        1984  26646000.0        1         0   \n",
      "4             4           4  5324        1981  58293000.0        1         0   \n",
      "\n",
      "  Dt_Customer  Recency  MntCoke  ...  Education_S1  Education_S2  \\\n",
      "0  04-09-2012       58   635000  ...          True         False   \n",
      "1  08-03-2014       38    11000  ...          True         False   \n",
      "2  21-08-2013       26   426000  ...          True         False   \n",
      "3  10-02-2014       26    11000  ...          True         False   \n",
      "4  19-01-2014       94   173000  ...         False         False   \n",
      "\n",
      "   Education_S3  Education_SMA  Marital_Status_Bertunangan  \\\n",
      "0         False          False                       False   \n",
      "1         False          False                       False   \n",
      "2         False          False                        True   \n",
      "3         False          False                        True   \n",
      "4          True          False                       False   \n",
      "\n",
      "   Marital_Status_Cerai  Marital_Status_Duda  Marital_Status_Janda  \\\n",
      "0                 False                False                 False   \n",
      "1                 False                False                 False   \n",
      "2                 False                False                 False   \n",
      "3                 False                False                 False   \n",
      "4                 False                False                 False   \n",
      "\n",
      "   Marital_Status_Lajang  Marital_Status_Menikah  \n",
      "0                   True                   False  \n",
      "1                   True                   False  \n",
      "2                  False                   False  \n",
      "3                  False                   False  \n",
      "4                  False                    True  \n",
      "\n",
      "[5 rows x 40 columns]\n"
     ]
    }
   ],
   "source": [
    "print(data.head())"
   ]
  },
  {
   "cell_type": "code",
   "execution_count": 15,
   "id": "4c26e62a",
   "metadata": {},
   "outputs": [
    {
     "name": "stdout",
     "output_type": "stream",
     "text": [
      "Columns in DataFrame: Index(['Unnamed: 0.1', 'Unnamed: 0', 'ID', 'Year_Birth', 'Income', 'Kidhome',\n",
      "       'Teenhome', 'Dt_Customer', 'Recency', 'MntCoke', 'MntFruits',\n",
      "       'MntMeatProducts', 'MntFishProducts', 'MntSweetProducts',\n",
      "       'MntGoldProds', 'NumDealsPurchases', 'NumWebPurchases',\n",
      "       'NumCatalogPurchases', 'NumStorePurchases', 'NumWebVisitsMonth',\n",
      "       'AcceptedCmp3', 'AcceptedCmp4', 'AcceptedCmp5', 'AcceptedCmp1',\n",
      "       'AcceptedCmp2', 'Complain', 'Z_CostContact', 'Z_Revenue', 'Response',\n",
      "       'Education_D3', 'Education_S1', 'Education_S2', 'Education_S3',\n",
      "       'Education_SMA', 'Marital_Status_Bertunangan', 'Marital_Status_Cerai',\n",
      "       'Marital_Status_Duda', 'Marital_Status_Janda', 'Marital_Status_Lajang',\n",
      "       'Marital_Status_Menikah'],\n",
      "      dtype='object')\n"
     ]
    }
   ],
   "source": [
    "print(\"Columns in DataFrame:\", data.columns)\n"
   ]
  },
  {
   "cell_type": "code",
   "execution_count": 19,
   "id": "074ff984",
   "metadata": {},
   "outputs": [
    {
     "name": "stdout",
     "output_type": "stream",
     "text": [
      "Missing columns: ['Education', 'Marital_Status']\n"
     ]
    }
   ],
   "source": [
    "required_columns = ['Education', 'Marital_Status']\n",
    "missing_columns = [col for col in required_columns if col not in data.columns]\n",
    "if missing_columns:\n",
    "    print(f\"Missing columns: {missing_columns}\")\n",
    "else:\n",
    "    data = pd.get_dummies(data, columns=required_columns)\n",
    "    print(\"DataFrame with dummy variables:\\n\", data.head())\n",
    "    data = pd.get_dummies(data, columns=['Education', 'Marital_Status'])"
   ]
  },
  {
   "cell_type": "code",
   "execution_count": 20,
   "id": "497c35e8",
   "metadata": {},
   "outputs": [
    {
     "name": "stdout",
     "output_type": "stream",
     "text": [
      "      Unnamed: 0.1  Unnamed: 0    ID  Year_Birth      Income  Kidhome  \\\n",
      "0                0           0  5524        1957  58138000.0        0   \n",
      "1                1           1  2174        1954  46344000.0        1   \n",
      "2                2           2  4141        1965  71613000.0        0   \n",
      "3                3           3  6182        1984  26646000.0        1   \n",
      "4                4           4  5324        1981  58293000.0        1   \n",
      "...            ...         ...   ...         ...         ...      ...   \n",
      "1675          1675        1675  4712        1991  20193000.0        0   \n",
      "1676          1676        1676  1170        1975  27573000.0        1   \n",
      "1677          1677        1677  6347        1979  15862000.0        1   \n",
      "1678          1678        1678  4065        1976  49544000.0        1   \n",
      "1679          1679        1679  8230        1980  33228000.0        1   \n",
      "\n",
      "      Teenhome Dt_Customer  Recency  MntCoke  ...  Education_S1  Education_S2  \\\n",
      "0            0  2012-09-04       58   635000  ...          True         False   \n",
      "1            1  2014-03-08       38    11000  ...          True         False   \n",
      "2            0  2013-08-21       26   426000  ...          True         False   \n",
      "3            0  2014-02-10       26    11000  ...          True         False   \n",
      "4            0  2014-01-19       94   173000  ...         False         False   \n",
      "...        ...         ...      ...      ...  ...           ...           ...   \n",
      "1675         0  2012-11-28       18     8000  ...         False         False   \n",
      "1676         0  2013-03-25       45    50000  ...          True         False   \n",
      "1677         0  2013-06-27       26     1000  ...         False         False   \n",
      "1678         0  2013-02-12        0   308000  ...         False         False   \n",
      "1679         0  2014-01-23       28    22000  ...          True         False   \n",
      "\n",
      "      Education_S3  Education_SMA  Marital_Status_Bertunangan  \\\n",
      "0            False          False                       False   \n",
      "1            False          False                       False   \n",
      "2            False          False                        True   \n",
      "3            False          False                        True   \n",
      "4             True          False                       False   \n",
      "...            ...            ...                         ...   \n",
      "1675         False          False                        True   \n",
      "1676         False          False                       False   \n",
      "1677         False           True                       False   \n",
      "1678          True          False                       False   \n",
      "1679         False          False                       False   \n",
      "\n",
      "      Marital_Status_Cerai  Marital_Status_Duda  Marital_Status_Janda  \\\n",
      "0                    False                False                 False   \n",
      "1                    False                False                 False   \n",
      "2                    False                False                 False   \n",
      "3                    False                False                 False   \n",
      "4                    False                False                 False   \n",
      "...                    ...                  ...                   ...   \n",
      "1675                 False                False                 False   \n",
      "1676                 False                False                 False   \n",
      "1677                 False                False                 False   \n",
      "1678                 False                False                 False   \n",
      "1679                 False                False                 False   \n",
      "\n",
      "      Marital_Status_Lajang  Marital_Status_Menikah  \n",
      "0                      True                   False  \n",
      "1                      True                   False  \n",
      "2                     False                   False  \n",
      "3                     False                   False  \n",
      "4                     False                    True  \n",
      "...                     ...                     ...  \n",
      "1675                  False                   False  \n",
      "1676                  False                    True  \n",
      "1677                   True                   False  \n",
      "1678                  False                    True  \n",
      "1679                  False                    True  \n",
      "\n",
      "[1680 rows x 40 columns]\n"
     ]
    }
   ],
   "source": [
    "data['Dt_Customer'] = pd.to_datetime(data['Dt_Customer'], format='%d-%m-%Y')\n",
    "print (data)"
   ]
  },
  {
   "cell_type": "code",
   "execution_count": null,
   "id": "eb1ee557",
   "metadata": {},
   "outputs": [],
   "source": []
  },
  {
   "cell_type": "code",
   "execution_count": 26,
   "id": "b351e098",
   "metadata": {},
   "outputs": [
    {
     "name": "stdout",
     "output_type": "stream",
     "text": [
      "      Unnamed: 0.1  Unnamed: 0    ID  Year_Birth    Income  Kidhome  Teenhome  \\\n",
      "0                0           0  5524   -0.985363  0.287002        0         0   \n",
      "1                1           1  2174   -1.234872 -0.262318        1         1   \n",
      "2                2           2  4141   -0.320005  0.914616        0         0   \n",
      "3                3           3  6182    1.260219 -1.179775        1         0   \n",
      "4                4           4  5324    1.010710  0.294221        1         0   \n",
      "...            ...         ...   ...         ...       ...      ...       ...   \n",
      "1675          1675        1675  4712    1.842406 -1.480331        0         0   \n",
      "1676          1676        1676  1170    0.511692 -1.136599        1         0   \n",
      "1677          1677        1677  6347    0.844370 -1.682053        1         0   \n",
      "1678          1678        1678  4065    0.594861 -0.113274        1         0   \n",
      "1679          1679        1679  8230    0.927540 -0.873211        1         0   \n",
      "\n",
      "       Recency  MntCoke  MntFruits  ...  Education_S3  Education_SMA  \\\n",
      "0     0.308300   635000      88000  ...         False          False   \n",
      "1    -0.383214    11000       1000  ...         False          False   \n",
      "2    -0.798123   426000      49000  ...         False          False   \n",
      "3    -0.798123    11000       4000  ...         False          False   \n",
      "4     1.553026   173000      43000  ...          True          False   \n",
      "...        ...      ...        ...  ...           ...            ...   \n",
      "1675 -1.074729     8000       8000  ...         False          False   \n",
      "1676 -0.141184    50000      15000  ...         False          False   \n",
      "1677 -0.798123     1000       1000  ...         False           True   \n",
      "1678 -1.697092   308000          0  ...          True          False   \n",
      "1679 -0.728972    22000       2000  ...         False          False   \n",
      "\n",
      "      Marital_Status_Bertunangan  Marital_Status_Cerai  Marital_Status_Duda  \\\n",
      "0                          False                 False                False   \n",
      "1                          False                 False                False   \n",
      "2                           True                 False                False   \n",
      "3                           True                 False                False   \n",
      "4                          False                 False                False   \n",
      "...                          ...                   ...                  ...   \n",
      "1675                        True                 False                False   \n",
      "1676                       False                 False                False   \n",
      "1677                       False                 False                False   \n",
      "1678                       False                 False                False   \n",
      "1679                       False                 False                False   \n",
      "\n",
      "      Marital_Status_Janda  Marital_Status_Lajang  Marital_Status_Menikah  \\\n",
      "0                    False                   True                   False   \n",
      "1                    False                   True                   False   \n",
      "2                    False                  False                   False   \n",
      "3                    False                  False                   False   \n",
      "4                    False                  False                    True   \n",
      "...                    ...                    ...                     ...   \n",
      "1675                 False                  False                   False   \n",
      "1676                 False                  False                    True   \n",
      "1677                 False                   True                   False   \n",
      "1678                 False                  False                    True   \n",
      "1679                 False                  False                    True   \n",
      "\n",
      "      Year_Customer  Month_Customer  \n",
      "0              2012               9  \n",
      "1              2014               3  \n",
      "2              2013               8  \n",
      "3              2014               2  \n",
      "4              2014               1  \n",
      "...             ...             ...  \n",
      "1675           2012              11  \n",
      "1676           2013               3  \n",
      "1677           2013               6  \n",
      "1678           2013               2  \n",
      "1679           2014               1  \n",
      "\n",
      "[1680 rows x 41 columns]\n"
     ]
    }
   ],
   "source": [
    "X = data.drop(['ID', 'Complain'], axis=1)\n",
    "y = data['Complain']\n",
    "print (data)"
   ]
  },
  {
   "cell_type": "code",
   "execution_count": 28,
   "id": "7f26bb19",
   "metadata": {},
   "outputs": [
    {
     "name": "stdout",
     "output_type": "stream",
     "text": [
      "      Unnamed: 0.1  Unnamed: 0    ID  Year_Birth    Income  Kidhome  Teenhome  \\\n",
      "0                0           0  5524   -0.985363  0.287002        0         0   \n",
      "1                1           1  2174   -1.234872 -0.262318        1         1   \n",
      "2                2           2  4141   -0.320005  0.914616        0         0   \n",
      "3                3           3  6182    1.260219 -1.179775        1         0   \n",
      "4                4           4  5324    1.010710  0.294221        1         0   \n",
      "...            ...         ...   ...         ...       ...      ...       ...   \n",
      "1675          1675        1675  4712    1.842406 -1.480331        0         0   \n",
      "1676          1676        1676  1170    0.511692 -1.136599        1         0   \n",
      "1677          1677        1677  6347    0.844370 -1.682053        1         0   \n",
      "1678          1678        1678  4065    0.594861 -0.113274        1         0   \n",
      "1679          1679        1679  8230    0.927540 -0.873211        1         0   \n",
      "\n",
      "       Recency  MntCoke  MntFruits  ...  Education_S3  Education_SMA  \\\n",
      "0     0.308300   635000      88000  ...         False          False   \n",
      "1    -0.383214    11000       1000  ...         False          False   \n",
      "2    -0.798123   426000      49000  ...         False          False   \n",
      "3    -0.798123    11000       4000  ...         False          False   \n",
      "4     1.553026   173000      43000  ...          True          False   \n",
      "...        ...      ...        ...  ...           ...            ...   \n",
      "1675 -1.074729     8000       8000  ...         False          False   \n",
      "1676 -0.141184    50000      15000  ...         False          False   \n",
      "1677 -0.798123     1000       1000  ...         False           True   \n",
      "1678 -1.697092   308000          0  ...          True          False   \n",
      "1679 -0.728972    22000       2000  ...         False          False   \n",
      "\n",
      "      Marital_Status_Bertunangan  Marital_Status_Cerai  Marital_Status_Duda  \\\n",
      "0                          False                 False                False   \n",
      "1                          False                 False                False   \n",
      "2                           True                 False                False   \n",
      "3                           True                 False                False   \n",
      "4                          False                 False                False   \n",
      "...                          ...                   ...                  ...   \n",
      "1675                        True                 False                False   \n",
      "1676                       False                 False                False   \n",
      "1677                       False                 False                False   \n",
      "1678                       False                 False                False   \n",
      "1679                       False                 False                False   \n",
      "\n",
      "      Marital_Status_Janda  Marital_Status_Lajang  Marital_Status_Menikah  \\\n",
      "0                    False                   True                   False   \n",
      "1                    False                   True                   False   \n",
      "2                    False                  False                   False   \n",
      "3                    False                  False                   False   \n",
      "4                    False                  False                    True   \n",
      "...                    ...                    ...                     ...   \n",
      "1675                 False                  False                   False   \n",
      "1676                 False                  False                    True   \n",
      "1677                 False                   True                   False   \n",
      "1678                 False                  False                    True   \n",
      "1679                 False                  False                    True   \n",
      "\n",
      "      Year_Customer  Month_Customer  \n",
      "0              2012               9  \n",
      "1              2014               3  \n",
      "2              2013               8  \n",
      "3              2014               2  \n",
      "4              2014               1  \n",
      "...             ...             ...  \n",
      "1675           2012              11  \n",
      "1676           2013               3  \n",
      "1677           2013               6  \n",
      "1678           2013               2  \n",
      "1679           2014               1  \n",
      "\n",
      "[1680 rows x 41 columns]\n"
     ]
    }
   ],
   "source": [
    "from sklearn.model_selection import train_test_split\n",
    "\n",
    "X_train, X_test, y_train, y_test = train_test_split(X, y, test_size=0.2, random_state=42)\n",
    "print (data)\n"
   ]
  },
  {
   "cell_type": "code",
   "execution_count": 29,
   "id": "4c803402",
   "metadata": {},
   "outputs": [
    {
     "name": "stdout",
     "output_type": "stream",
     "text": [
      "Confusion Matrix:\n",
      " [[332   0]\n",
      " [  4   0]]\n",
      "Classification Report:\n",
      "               precision    recall  f1-score   support\n",
      "\n",
      "           0       0.99      1.00      0.99       332\n",
      "           1       1.00      0.00      0.00         4\n",
      "\n",
      "    accuracy                           0.99       336\n",
      "   macro avg       0.99      0.50      0.50       336\n",
      "weighted avg       0.99      0.99      0.98       336\n",
      "\n"
     ]
    }
   ],
   "source": [
    "from sklearn.linear_model import LogisticRegression\n",
    "from sklearn.metrics import classification_report, confusion_matrix\n",
    "model = LogisticRegression()\n",
    "model.fit(X_train, y_train)\n",
    "y_pred = model.predict(X_test)\n",
    "\n",
    "print(\"Confusion Matrix:\\n\", confusion_matrix(y_test, y_pred))\n",
    "print(\"Classification Report:\\n\", classification_report(y_test, y_pred, zero_division=1))\n"
   ]
  },
  {
   "cell_type": "code",
   "execution_count": null,
   "id": "68755ba3",
   "metadata": {},
   "outputs": [],
   "source": []
  }
 ],
 "metadata": {
  "kernelspec": {
   "display_name": "Python 3 (ipykernel)",
   "language": "python",
   "name": "python3"
  },
  "language_info": {
   "codemirror_mode": {
    "name": "ipython",
    "version": 3
   },
   "file_extension": ".py",
   "mimetype": "text/x-python",
   "name": "python",
   "nbconvert_exporter": "python",
   "pygments_lexer": "ipython3",
   "version": "3.11.5"
  }
 },
 "nbformat": 4,
 "nbformat_minor": 5
}
